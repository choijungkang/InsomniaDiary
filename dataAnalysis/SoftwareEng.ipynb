{
 "cells": [
  {
   "cell_type": "code",
   "execution_count": 21,
   "id": "7442a5ef",
   "metadata": {},
   "outputs": [],
   "source": [
    "import pandas as pd\n",
    "import numpy as np\n",
    "import matplotlib.pyplot as plt\n",
    "import seaborn as sns\n",
    "from sklearn.model_selection import train_test_split\n",
    "from sklearn.linear_model import LinearRegression\n",
    "from scipy import stats\n",
    "import warnings\n",
    "warnings.filterwarnings('ignore')"
   ]
  },
  {
   "cell_type": "code",
   "execution_count": 45,
   "id": "f778949f",
   "metadata": {},
   "outputs": [
    {
     "data": {
      "text/html": [
       "<div>\n",
       "<style scoped>\n",
       "    .dataframe tbody tr th:only-of-type {\n",
       "        vertical-align: middle;\n",
       "    }\n",
       "\n",
       "    .dataframe tbody tr th {\n",
       "        vertical-align: top;\n",
       "    }\n",
       "\n",
       "    .dataframe thead th {\n",
       "        text-align: right;\n",
       "    }\n",
       "</style>\n",
       "<table border=\"1\" class=\"dataframe\">\n",
       "  <thead>\n",
       "    <tr style=\"text-align: right;\">\n",
       "      <th></th>\n",
       "      <th>Sleep efficiency</th>\n",
       "      <th>Caffeine consumption</th>\n",
       "      <th>Alcohol consumption</th>\n",
       "      <th>Exercise frequency</th>\n",
       "    </tr>\n",
       "  </thead>\n",
       "  <tbody>\n",
       "    <tr>\n",
       "      <th>0</th>\n",
       "      <td>0.88</td>\n",
       "      <td>0.0</td>\n",
       "      <td>0.0</td>\n",
       "      <td>3.0</td>\n",
       "    </tr>\n",
       "    <tr>\n",
       "      <th>1</th>\n",
       "      <td>0.66</td>\n",
       "      <td>0.0</td>\n",
       "      <td>3.0</td>\n",
       "      <td>3.0</td>\n",
       "    </tr>\n",
       "    <tr>\n",
       "      <th>2</th>\n",
       "      <td>0.89</td>\n",
       "      <td>0.0</td>\n",
       "      <td>0.0</td>\n",
       "      <td>3.0</td>\n",
       "    </tr>\n",
       "    <tr>\n",
       "      <th>3</th>\n",
       "      <td>0.51</td>\n",
       "      <td>50.0</td>\n",
       "      <td>5.0</td>\n",
       "      <td>1.0</td>\n",
       "    </tr>\n",
       "    <tr>\n",
       "      <th>4</th>\n",
       "      <td>0.76</td>\n",
       "      <td>0.0</td>\n",
       "      <td>3.0</td>\n",
       "      <td>3.0</td>\n",
       "    </tr>\n",
       "  </tbody>\n",
       "</table>\n",
       "</div>"
      ],
      "text/plain": [
       "   Sleep efficiency  Caffeine consumption  Alcohol consumption  \\\n",
       "0              0.88                   0.0                  0.0   \n",
       "1              0.66                   0.0                  3.0   \n",
       "2              0.89                   0.0                  0.0   \n",
       "3              0.51                  50.0                  5.0   \n",
       "4              0.76                   0.0                  3.0   \n",
       "\n",
       "   Exercise frequency  \n",
       "0                 3.0  \n",
       "1                 3.0  \n",
       "2                 3.0  \n",
       "3                 1.0  \n",
       "4                 3.0  "
      ]
     },
     "execution_count": 45,
     "metadata": {},
     "output_type": "execute_result"
    }
   ],
   "source": [
    "df=pd.read_csv('Sleep_Efficiency.csv')\n",
    "df=df.drop(['ID','Age','Gender','Bedtime','Wakeup time','Sleep duration','REM sleep percentage','Deep sleep percentage','Light sleep percentage','Awakenings','Smoking status'],axis=1)\n",
    "df['Caffeine consumption']=df['Caffeine consumption'].fillna(0)\n",
    "df['Alcohol consumption']=df['Alcohol consumption'].fillna(0)\n",
    "df['Exercise frequency']=df['Exercise frequency'].fillna(3)\n",
    "df.head()\n"
   ]
  },
  {
   "cell_type": "markdown",
   "id": "83c72514",
   "metadata": {},
   "source": [
    "Linear Regression"
   ]
  },
  {
   "cell_type": "code",
   "execution_count": 52,
   "id": "7b9c22ec",
   "metadata": {},
   "outputs": [
    {
     "name": "stdout",
     "output_type": "stream",
     "text": [
      "MSE: 0.014820, RMSE:0.122\n",
      "Variance score : 0.112\n"
     ]
    },
    {
     "data": {
      "text/plain": [
       "Exercise frequency      0.02468\n",
       "Caffeine consumption    0.00018\n",
       "Alcohol consumption    -0.03472\n",
       "dtype: float64"
      ]
     },
     "execution_count": 52,
     "metadata": {},
     "output_type": "execute_result"
    }
   ],
   "source": [
    "y_target=df['Sleep efficiency']\n",
    "X_data=df.drop(['Sleep efficiency'], axis=1, inplace=False)\n",
    "X_train, X_test, y_train, y_test = train_test_split(X_data, y_target, test_size=0.3, random_state=156)\n",
    "\n",
    "#선형회귀 OLS로 학습/예측/평가 수행\n",
    "lr=LinearRegression()\n",
    "lr.fit(X_train, y_train)\n",
    "y_preds=lr.predict(X_test)\n",
    "mse=mean_squared_error(y_test, y_preds)\n",
    "rmse=np.sqrt(mse)\n",
    "\n",
    "print(\"MSE: {0:3f}, RMSE:{1:.3F}\".format(mse,rmse))\n",
    "print('Variance score : {0:.3f}'.format(r2_score(y_test,y_preds)))\n",
    "\n",
    "coeff=pd.Series(data=np.round(lr.coef_,5), index=X_data.columns)\n",
    "coeff.sort_values(ascending=False)"
   ]
  },
  {
   "cell_type": "markdown",
   "id": "c9a24b31",
   "metadata": {},
   "source": [
    "Correlation"
   ]
  },
  {
   "cell_type": "code",
   "execution_count": 49,
   "id": "029ec59b",
   "metadata": {},
   "outputs": [
    {
     "data": {
      "image/png": "[encoded data removed]",
      "text/plain": [
       "<Figure size 1000x800 with 2 Axes>"
      ]
     },
     "metadata": {},
     "output_type": "display_data"
    }
   ],
   "source": [
    "summary = df.describe()\n",
    "\n",
    "\n",
    "# Matrice correlation\n",
    "correlation_matrix = df.corr()\n",
    "plt.figure(figsize=(10, 8))\n",
    "sns.heatmap(correlation_matrix, annot=True, cmap=\"coolwarm\")\n",
    "plt.title(\"Matrix correlation\")\n",
    "plt.show()\n"
   ]
  },
  {
   "cell_type": "markdown",
   "id": "b89b24e1",
   "metadata": {},
   "source": [
    "Ridge Regression"
   ]
  },
  {
   "cell_type": "code",
   "execution_count": 61,
   "id": "77d29c95",
   "metadata": {},
   "outputs": [
    {
     "name": "stdout",
     "output_type": "stream",
     "text": [
      "5 folds's each Negative MSE scores: [-0.014 -0.015 -0.014 -0.018 -0.013]\n",
      "5 folds;s each RMSE scores: [0.118 0.123 0.117 0.134 0.112]\n",
      "Average RMSE: 0.121\n"
     ]
    },
    {
     "data": {
      "text/html": [
       "<div>\n",
       "<style scoped>\n",
       "    .dataframe tbody tr th:only-of-type {\n",
       "        vertical-align: middle;\n",
       "    }\n",
       "\n",
       "    .dataframe tbody tr th {\n",
       "        vertical-align: top;\n",
       "    }\n",
       "\n",
       "    .dataframe thead th {\n",
       "        text-align: right;\n",
       "    }\n",
       "</style>\n",
       "<table border=\"1\" class=\"dataframe\">\n",
       "  <thead>\n",
       "    <tr style=\"text-align: right;\">\n",
       "      <th></th>\n",
       "      <th>alpha:0</th>\n",
       "      <th>alpha:0.1</th>\n",
       "      <th>alpha:1</th>\n",
       "      <th>alpha:10</th>\n",
       "      <th>alpha:100</th>\n",
       "    </tr>\n",
       "  </thead>\n",
       "  <tbody>\n",
       "    <tr>\n",
       "      <th>Exercise frequency</th>\n",
       "      <td>0.024282</td>\n",
       "      <td>0.024279</td>\n",
       "      <td>0.024256</td>\n",
       "      <td>0.024021</td>\n",
       "      <td>0.021907</td>\n",
       "    </tr>\n",
       "    <tr>\n",
       "      <th>Caffeine consumption</th>\n",
       "      <td>0.000142</td>\n",
       "      <td>0.000142</td>\n",
       "      <td>0.000142</td>\n",
       "      <td>0.000143</td>\n",
       "      <td>0.000154</td>\n",
       "    </tr>\n",
       "    <tr>\n",
       "      <th>Alcohol consumption</th>\n",
       "      <td>-0.031684</td>\n",
       "      <td>-0.031682</td>\n",
       "      <td>-0.031657</td>\n",
       "      <td>-0.031413</td>\n",
       "      <td>-0.029165</td>\n",
       "    </tr>\n",
       "  </tbody>\n",
       "</table>\n",
       "</div>"
      ],
      "text/plain": [
       "                       alpha:0  alpha:0.1   alpha:1  alpha:10  alpha:100\n",
       "Exercise frequency    0.024282   0.024279  0.024256  0.024021   0.021907\n",
       "Caffeine consumption  0.000142   0.000142  0.000142  0.000143   0.000154\n",
       "Alcohol consumption  -0.031684  -0.031682 -0.031657 -0.031413  -0.029165"
      ]
     },
     "execution_count": 61,
     "metadata": {},
     "output_type": "execute_result"
    }
   ],
   "source": [
    "from sklearn.linear_model import Ridge\n",
    "from sklearn.model_selection import cross_val_score\n",
    "ridge=Ridge(alpha=10)\n",
    "neg_mse_scores=cross_val_score(ridge, X_data, y_target, scoring=\"neg_mean_squared_error\",cv=5)\n",
    "rmse_scores=np.sqrt(-1*neg_mse_scores)\n",
    "avg_rmse=np.mean(rmse_scores)\n",
    "print(\"5 folds's each Negative MSE scores:\",np.round(neg_mse_scores,3))\n",
    "print(\"5 folds;s each RMSE scores:\", np.round(rmse_scores,3))\n",
    "print(\"Average RMSE: {0:.3f}\".format(avg_rmse))\n",
    "\n",
    "alphas=[0,0.1,1,10,100]\n",
    "for alpha in alphas:\n",
    "    ridge=Ridge(alpha=alpha)\n",
    "    \n",
    "coeff_df=pd.DataFrame()\n",
    "for pos, alpha in enumerate(alphas):\n",
    "    ridge=Ridge(alpha=alpha)\n",
    "    ridge.fit(X_data, y_target)\n",
    "    coeff=pd.Series(data=ridge.coef_,index=X_data.columns)\n",
    "    colname='alpha:'+str(alpha)\n",
    "    coeff_df[colname]=coeff\n",
    "    coeff=coeff.sort_values(ascending=False)\n",
    "\n",
    "ridge_alphas=[0,0.1,1,10,100]\n",
    "sort_column='alpha:'+str(ridge_alphas[0])\n",
    "coeff_df.sort_values(by=sort_column, ascending=False)"
   ]
  },
  {
   "cell_type": "markdown",
   "id": "c055f642",
   "metadata": {},
   "source": [
    "Lasso Regression"
   ]
  },
  {
   "cell_type": "code",
   "execution_count": 74,
   "id": "9eecbd83",
   "metadata": {},
   "outputs": [
    {
     "name": "stdout",
     "output_type": "stream",
     "text": [
      "Lasso\n",
      "alpha0.07일 때 5폴드 세트의 평균 RMSE: 0.133\n",
      "alpha0.1일 때 5폴드 세트의 평균 RMSE: 0.135\n",
      "alpha0.5일 때 5폴드 세트의 평균 RMSE: 0.135\n",
      "alpha1일 때 5폴드 세트의 평균 RMSE: 0.135\n",
      "alpha3일 때 5폴드 세트의 평균 RMSE: 0.135\n"
     ]
    },
    {
     "data": {
      "text/html": [
       "<div>\n",
       "<style scoped>\n",
       "    .dataframe tbody tr th:only-of-type {\n",
       "        vertical-align: middle;\n",
       "    }\n",
       "\n",
       "    .dataframe tbody tr th {\n",
       "        vertical-align: top;\n",
       "    }\n",
       "\n",
       "    .dataframe thead th {\n",
       "        text-align: right;\n",
       "    }\n",
       "</style>\n",
       "<table border=\"1\" class=\"dataframe\">\n",
       "  <thead>\n",
       "    <tr style=\"text-align: right;\">\n",
       "      <th></th>\n",
       "      <th>alpha:0.07</th>\n",
       "      <th>alpha:0.1</th>\n",
       "      <th>alpha:0.5</th>\n",
       "      <th>alpha:1</th>\n",
       "      <th>alpha:3</th>\n",
       "    </tr>\n",
       "  </thead>\n",
       "  <tbody>\n",
       "    <tr>\n",
       "      <th>Caffeine consumption</th>\n",
       "      <td>0.00019</td>\n",
       "      <td>0.000185</td>\n",
       "      <td>0.0</td>\n",
       "      <td>0.0</td>\n",
       "      <td>0.0</td>\n",
       "    </tr>\n",
       "    <tr>\n",
       "      <th>Exercise frequency</th>\n",
       "      <td>0.00000</td>\n",
       "      <td>0.000000</td>\n",
       "      <td>0.0</td>\n",
       "      <td>0.0</td>\n",
       "      <td>0.0</td>\n",
       "    </tr>\n",
       "    <tr>\n",
       "      <th>Alcohol consumption</th>\n",
       "      <td>-0.00452</td>\n",
       "      <td>-0.000000</td>\n",
       "      <td>-0.0</td>\n",
       "      <td>-0.0</td>\n",
       "      <td>-0.0</td>\n",
       "    </tr>\n",
       "  </tbody>\n",
       "</table>\n",
       "</div>"
      ],
      "text/plain": [
       "                      alpha:0.07  alpha:0.1  alpha:0.5  alpha:1  alpha:3\n",
       "Caffeine consumption     0.00019   0.000185        0.0      0.0      0.0\n",
       "Exercise frequency       0.00000   0.000000        0.0      0.0      0.0\n",
       "Alcohol consumption     -0.00452  -0.000000       -0.0     -0.0     -0.0"
      ]
     },
     "execution_count": 74,
     "metadata": {},
     "output_type": "execute_result"
    }
   ],
   "source": [
    "from sklearn.linear_model import Lasso, ElasticNet\n",
    "\n",
    "def get_linear_reg_eval(model_name, params=None, X_data_n=None, y_target_n=None, verbose=True, return_coeff=True):\n",
    "    coeff_df=pd.DataFrame()\n",
    "    if verbose: print(model_name)\n",
    "    for param in params:\n",
    "        if model_name=='Ridge': model=Ridge(alpha=param)\n",
    "        elif model_name=='Lasso': model=Lasso(alpha=param)\n",
    "        elif moel_name=='ElasticNet': model=ElasticNet(alpha=param, l1_ratio=0.7)\n",
    "        neg_mse_scores=cross_val_score(model,X_data_n,y_target_n,scoring='neg_mean_squared_error',cv=5)\n",
    "        avg_rmse=np.mean(np.sqrt(-1*neg_mse_scores))\n",
    "        print('alpha{0}일 때 5폴드 세트의 평균 RMSE: {1:.3f}'.format(param,avg_rmse))\n",
    "            \n",
    "        model.fit(X_data_n,y_target_n)\n",
    "        if return_coeff:\n",
    "            coeff=pd.Series(data=model.coef_, index=X_data_n.columns)\n",
    "            colname='alpha:'+str(param)\n",
    "            coeff_df[colname]=coeff\n",
    "    return coeff_df\n",
    "\n",
    "lasso_alphas=[0.07,0.1,0.5,1,3]\n",
    "coeff_lasso_df=get_linear_reg_eval('Lasso',params=lasso_alphas,X_data_n=X_data, y_target_n=y_target)\n",
    "# 반환된 coeff_lasso_df를 첫번째 컬럼순으로 내림차순 정렬하여 회귀계수 DataFrame출력\n",
    "sort_column = 'alpha:'+str(lasso_alphas[0])\n",
    "coeff_lasso_df.sort_values(by=sort_column, ascending=False)"
   ]
  },
  {
   "cell_type": "markdown",
   "id": "b58313b1",
   "metadata": {},
   "source": [
    "최종결과:\n",
    "상관관계 분석 결과, Sleep efficiency와 나머지 요소들의 상관관계가 높지는 않지만 그래도 의미를 부여하자면\n",
    "카페인 섭취, 운동 빈도의 경우 양의 상관관계를 가지지만 그 중 카페인 섭취의 상관관계는 거의 0에 가깝다고 생각해도 무방.\n",
    "알콜 섭취의 경우 음의 상관관계를 가짐.\n",
    "\n",
    "회귀 모델 사용 결과:\n",
    "RMSE를 기준으로 분석해보자면 Ridge->LinearRegression->Lasso 순이다.\n",
    "Ridge모델의 회귀 계수를 보자면 alpha=0.1일 때, 양의 가중치에서는 운동 빈도가 가장 높게 나타났고 음의 가중치로는 알콜 섭취가 나타나였다.\n",
    "사용자에게 수면 솔루션을 줄 때 카페인 섭취량, 운동 빈도, 알콜 섭취량을 얼마만큼 조절 했을 때 예상 수면 질을 보여주는 솔루션을 제공할 수 있다."
   ]
  }
 ],
 "metadata": {
  "kernelspec": {
   "display_name": "Python 3 (ipykernel)",
   "language": "python",
   "name": "python3"
  },
  "language_info": {
   "codemirror_mode": {
    "name": "ipython",
    "version": 3
   },
   "file_extension": ".py",
   "mimetype": "text/x-python",
   "name": "python",
   "nbconvert_exporter": "python",
   "pygments_lexer": "ipython3",
   "version": "3.11.5"
  }
 },
 "nbformat": 4,
 "nbformat_minor": 5
}
